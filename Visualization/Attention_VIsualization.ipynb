{
 "cells": [
  {
   "cell_type": "code",
   "execution_count": 3,
   "metadata": {
    "collapsed": true
   },
   "outputs": [],
   "source": [
    "import pickle\n",
    "import torch.autograd as autograd\n",
    "import numpy as np\n",
    "import pandas as pd\n",
    "from collections import Counter\n",
    "%matplotlib inline"
   ]
  },
  {
   "cell_type": "code",
   "execution_count": 5,
   "metadata": {},
   "outputs": [],
   "source": [
    "catergory = pd.read_csv('with_category.csv')\n",
    "chartime = np.load('charttime_string.npy')"
   ]
  },
  {
   "cell_type": "code",
   "execution_count": null,
   "metadata": {
    "collapsed": true
   },
   "outputs": [],
   "source": [
    "voc = np.load('voc_100.npy')"
   ]
  },
  {
   "cell_type": "code",
   "execution_count": 363,
   "metadata": {
    "collapsed": true
   },
   "outputs": [],
   "source": [
    "timeline = '12h'"
   ]
  },
  {
   "cell_type": "code",
   "execution_count": 364,
   "metadata": {
    "collapsed": true
   },
   "outputs": [],
   "source": [
    "attention_name = 'val_result_'+timeline + '.pickle'\n",
    "data_name = 'val_'+timeline+'.npy'"
   ]
  },
  {
   "cell_type": "code",
   "execution_count": 365,
   "metadata": {},
   "outputs": [],
   "source": [
    "attentions = pickle.load(open(attention_name,'rb'))"
   ]
  },
  {
   "cell_type": "code",
   "execution_count": 366,
   "metadata": {},
   "outputs": [],
   "source": [
    "data = np.load(data_name)"
   ]
  },
  {
   "cell_type": "code",
   "execution_count": 367,
   "metadata": {
    "collapsed": true
   },
   "outputs": [],
   "source": [
    "notes_attention = attentions['notes_attention']\n",
    "words_attention = attentions['words_attention']\n",
    "notes_max_attention = attentions['notes_max_attention']\n",
    "words_max_attention = attentions['words_max_attention']"
   ]
  },
  {
   "cell_type": "code",
   "execution_count": 368,
   "metadata": {},
   "outputs": [],
   "source": [
    "notes_attention = [list(notes_attention[i][0].data.numpy()[0]) for i in range(len(notes_attention))]\n",
    "notes_max_attention = [Counter(list(notes_max_attention[i].data.numpy()[0].T[0])) for i in range(len(notes_max_attention))]"
   ]
  },
  {
   "cell_type": "code",
   "execution_count": 369,
   "metadata": {
    "collapsed": true
   },
   "outputs": [],
   "source": [
    "words_attention = [[list(words_attention[i][j].data.numpy()[0]) for j in range(len(words_attention[i]))] for i in range(len(words_attention))]"
   ]
  },
  {
   "cell_type": "code",
   "execution_count": 370,
   "metadata": {},
   "outputs": [],
   "source": [
    "notes_max_attention_new = []\n",
    "for j in range(len(notes_max_attention)):\n",
    "    notes_max_attention_new.append([value for _, value in notes_max_attention[j].most_common()])"
   ]
  },
  {
   "cell_type": "code",
   "execution_count": 371,
   "metadata": {},
   "outputs": [],
   "source": [
    "notes_max_attention = notes_max_attention_new"
   ]
  },
  {
   "cell_type": "code",
   "execution_count": 333,
   "metadata": {},
   "outputs": [],
   "source": [
    "words_max_attention_all = []\n",
    "for i in range(len(words_max_attention)):\n",
    "    words_max_attention_total = []\n",
    "    for j in range(len(words_max_attention[i])):\n",
    "        words_max_attention_kk = Counter(list(words_max_attention[i][j].data.numpy()[0].T[0]))\n",
    "        words_max_attention_kk_keys = list(words_max_attention_kk.keys())\n",
    "        for h in range(max(words_max_attention_kk_keys)):\n",
    "            if h not in words_max_attention_kk:\n",
    "                words_max_attention_kk[h] = 0\n",
    "                \n",
    "        words_max_attention_kk = [value for _, value in words_max_attention_kk.most_common()]\n",
    "        words_max_attention_total.append(words_max_attention_kk)\n",
    "    words_max_attention_all.append(words_max_attention_total)"
   ]
  },
  {
   "cell_type": "code",
   "execution_count": 315,
   "metadata": {
    "collapsed": true
   },
   "outputs": [],
   "source": [
    "words_max_attention = words_max_attention_all"
   ]
  },
  {
   "cell_type": "code",
   "execution_count": 372,
   "metadata": {
    "collapsed": true
   },
   "outputs": [],
   "source": [
    "def topN(a,N):\n",
    "    return np.argsort(a)[::-1][:N]"
   ]
  },
  {
   "cell_type": "code",
   "execution_count": 373,
   "metadata": {
    "collapsed": true
   },
   "outputs": [],
   "source": [
    "topN_index = [topN(notes_attention[i],1) for i in range(len(notes_attention))]"
   ]
  },
  {
   "cell_type": "code",
   "execution_count": 374,
   "metadata": {
    "collapsed": true
   },
   "outputs": [],
   "source": [
    "topN_index_max = [topN(notes_max_attention[i],1) for i in range(len(notes_max_attention))]"
   ]
  },
  {
   "cell_type": "code",
   "execution_count": 375,
   "metadata": {
    "collapsed": true
   },
   "outputs": [],
   "source": [
    "top_noteID = [data.item()['NOTE_ID'][i][topN_index[i][0]] for i in range(len(topN_index))]\n",
    "top_noteID_max = [data.item()['NOTE_ID'][i][topN_index_max[i][0]] for i in range(len(topN_index_max))]"
   ]
  },
  {
   "cell_type": "code",
   "execution_count": 376,
   "metadata": {
    "collapsed": true
   },
   "outputs": [],
   "source": [
    "key = [str(data.item()['SUBJECT_ID'][j])+' '+ chartime[top_noteID[j]] for j in range(len(top_noteID))]\n",
    "key_max = [str(data.item()['SUBJECT_ID'][j])+' '+ chartime[top_noteID_max[j]] for j in range(len(top_noteID_max))]"
   ]
  },
  {
   "cell_type": "code",
   "execution_count": 377,
   "metadata": {
    "collapsed": true
   },
   "outputs": [],
   "source": [
    "notes_types = []\n",
    "for j in range(len(key)):\n",
    "    try:\n",
    "        notes_types.append(catergory[catergory.KEY == key[j]].CATEGORY.values[0])\n",
    "    except IndexError:\n",
    "        pass       "
   ]
  },
  {
   "cell_type": "code",
   "execution_count": 242,
   "metadata": {},
   "outputs": [],
   "source": [
    "notes_types_max = []\n",
    "for j in range(len(key_max)):\n",
    "    try:\n",
    "        notes_types_max.append(catergory[catergory.KEY == key_max[j]].CATEGORY.values[0])\n",
    "    except IndexError:\n",
    "        pass "
   ]
  },
  {
   "cell_type": "code",
   "execution_count": 378,
   "metadata": {},
   "outputs": [
    {
     "data": {
      "text/plain": [
       "<matplotlib.text.Text at 0x12083f860>"
      ]
     },
     "execution_count": 378,
     "metadata": {},
     "output_type": "execute_result"
    },
    {
     "data": {
      "image/png": "[encoded data removed]",
      "text/plain": [
       "<matplotlib.figure.Figure at 0x1322ff320>"
      ]
     },
     "metadata": {},
     "output_type": "display_data"
    }
   ],
   "source": [
    "Notes_type_counts = Counter(notes_types)\n",
    "df = pd.DataFrame.from_dict(Notes_type_counts, orient='index')\n",
    "ax = df.plot( kind='bar',legend = False, color='darkgreen')\n",
    "ax.set_ylabel(\"Number of Notes\")\n",
    "ax.set_title('Important Notes Type Distibution'+ '(' +timeline+')')"
   ]
  },
  {
   "cell_type": "code",
   "execution_count": 244,
   "metadata": {},
   "outputs": [
    {
     "data": {
      "text/plain": [
       "<matplotlib.text.Text at 0x1224c9320>"
      ]
     },
     "execution_count": 244,
     "metadata": {},
     "output_type": "execute_result"
    },
    {
     "data": {
      "image/png": "[encoded data removed]",
      "text/plain": [
       "<matplotlib.figure.Figure at 0x122cff0f0>"
      ]
     },
     "metadata": {},
     "output_type": "display_data"
    }
   ],
   "source": [
    "Notes_type_counts_max = Counter(notes_types_max)\n",
    "df_max = pd.DataFrame.from_dict(Notes_type_counts_max, orient='index')\n",
    "ax_max = df_max.plot( kind='bar',legend = False, color='darkgreen')\n",
    "ax_max.set_ylabel(\"Number of Notes\")\n",
    "ax_max.set_title('Important Notes Type Distibution'+ '(' +timeline+')')"
   ]
  },
  {
   "cell_type": "code",
   "execution_count": 69,
   "metadata": {},
   "outputs": [
    {
     "data": {
      "text/plain": [
       "array(['Case Management ', 'Consult', 'General', 'Nursing',\n",
       "       'Nursing/other', 'Nutrition', 'Pharmacy', 'Physician ', 'Radiology',\n",
       "       'Rehab Services', 'Respiratory ', 'Social Work'], dtype=object)"
      ]
     },
     "execution_count": 69,
     "metadata": {},
     "output_type": "execute_result"
    }
   ],
   "source": [
    "np.unique(catergory['CATEGORY'].values)"
   ]
  },
  {
   "cell_type": "code",
   "execution_count": 245,
   "metadata": {
    "collapsed": true
   },
   "outputs": [],
   "source": [
    "import matplotlib as mpl\n",
    "import matplotlib.cm as cm\n",
    "\n",
    "def print_visualisation(X, Y, notes_types, SUBJECT_ID, notes_attention, time_line, output_file):\n",
    "    max_total = max([val for sublist in Y for val in sublist])\n",
    "    min_total = min([val for sublist in Y for val in sublist])\n",
    "    norm = mpl.colors.Normalize(vmin=min_total, vmax=max_total+0.5*max_total)\n",
    "    cmap = cm.YlGn\n",
    "    m = cm.ScalarMappable(norm=norm, cmap=cmap)\n",
    "    output_file=open(output_file, 'w+')\n",
    "    print('<div align=\"center\">', file=output_file)\n",
    "    print('<h2 style  = \"font-family:courier;\">'+ time_line + '  Subject ID '+str(SUBJECT_ID) +'</h2>', file = output_file)\n",
    "    print('</div>', file = output_file)\n",
    "    print('<div>', file=output_file)\n",
    "    for k in range(len(X)):\n",
    "        print('<h3 style = \"font-family:Comic Sans MS;\"> Note Type: '+str(notes_types[k]) +' attention weight: ' + str(notes_attention[k])+ '</h3>', file = output_file)\n",
    "        for i in range(len(X[k])):\n",
    "            print('<span style=\"background-color:' + str((mpl.colors.to_hex(m.to_rgba(Y[k][i])).upper()))\\\n",
    "                  +';font-family:verdana;\">'+''.join(X[k][i])+'</span>', file = output_file)\n",
    "        print('</br>', file = output_file) \n",
    "        print('</br>', file = output_file)\n",
    "    print('</div>', file = output_file)"
   ]
  },
  {
   "cell_type": "code",
   "execution_count": 379,
   "metadata": {
    "scrolled": true
   },
   "outputs": [
    {
     "name": "stdout",
     "output_type": "stream",
     "text": [
      "The 0 th patient\n",
      "\n",
      "The 50 th patient\n",
      "\n",
      "The 100 th patient\n",
      "\n",
      "The 150 th patient\n",
      "\n",
      "The 200 th patient\n",
      "\n",
      "The 250 th patient\n",
      "\n",
      "The 300 th patient\n",
      "\n",
      "The 350 th patient\n",
      "\n",
      "The 400 th patient\n",
      "\n",
      "The 450 th patient\n",
      "\n",
      "The 500 th patient\n",
      "\n"
     ]
    },
    {
     "ename": "IndexError",
     "evalue": "list index out of range",
     "output_type": "error",
     "traceback": [
      "\u001b[0;31m---------------------------------------------------------------------------\u001b[0m",
      "\u001b[0;31mIndexError\u001b[0m                                Traceback (most recent call last)",
      "\u001b[0;32m<ipython-input-379-f1b6f7830a8a>\u001b[0m in \u001b[0;36m<module>\u001b[0;34m()\u001b[0m\n\u001b[1;32m      7\u001b[0m         \u001b[0mtext_note\u001b[0m \u001b[0;34m=\u001b[0m \u001b[0;34m[\u001b[0m\u001b[0mvoc\u001b[0m\u001b[0;34m[\u001b[0m\u001b[0mnote\u001b[0m\u001b[0;34m[\u001b[0m\u001b[0mj\u001b[0m\u001b[0;34m]\u001b[0m\u001b[0;34m-\u001b[0m\u001b[0;36m1\u001b[0m\u001b[0;34m]\u001b[0m \u001b[0;32mfor\u001b[0m \u001b[0mj\u001b[0m \u001b[0;32min\u001b[0m \u001b[0mrange\u001b[0m\u001b[0;34m(\u001b[0m\u001b[0mlen\u001b[0m\u001b[0;34m(\u001b[0m\u001b[0mnote\u001b[0m\u001b[0;34m)\u001b[0m\u001b[0;34m)\u001b[0m\u001b[0;34m]\u001b[0m\u001b[0;34m\u001b[0m\u001b[0m\n\u001b[1;32m      8\u001b[0m         \u001b[0mtext_note_total\u001b[0m\u001b[0;34m.\u001b[0m\u001b[0mappend\u001b[0m\u001b[0;34m(\u001b[0m\u001b[0mtext_note\u001b[0m\u001b[0;34m)\u001b[0m\u001b[0;34m\u001b[0m\u001b[0m\n\u001b[0;32m----> 9\u001b[0;31m     \u001b[0mattention\u001b[0m \u001b[0;34m=\u001b[0m \u001b[0mwords_attention\u001b[0m\u001b[0;34m[\u001b[0m\u001b[0mj\u001b[0m\u001b[0;34m]\u001b[0m\u001b[0;34m\u001b[0m\u001b[0m\n\u001b[0m\u001b[1;32m     10\u001b[0m     \u001b[0;31m# Weight the word level attention by note level attention\u001b[0m\u001b[0;34m\u001b[0m\u001b[0;34m\u001b[0m\u001b[0m\n\u001b[1;32m     11\u001b[0m     \u001b[0;32mfor\u001b[0m \u001b[0mk\u001b[0m \u001b[0;32min\u001b[0m \u001b[0mrange\u001b[0m\u001b[0;34m(\u001b[0m\u001b[0mlen\u001b[0m\u001b[0;34m(\u001b[0m\u001b[0mattention\u001b[0m\u001b[0;34m)\u001b[0m\u001b[0;34m)\u001b[0m\u001b[0;34m:\u001b[0m\u001b[0;34m\u001b[0m\u001b[0m\n",
      "\u001b[0;31mIndexError\u001b[0m: list index out of range"
     ]
    }
   ],
   "source": [
    "for j in range(len(data.item()['DATA'])):\n",
    "    if j % 50 == 0:\n",
    "        print('The %d th patient\\n'%j)\n",
    "    text_note_total = []\n",
    "    for i in range(len(data.item()['DATA'][j])):\n",
    "        note = data.item()['DATA'][j][i]\n",
    "        text_note = [voc[note[j]-1] for j in range(len(note))]\n",
    "        text_note_total.append(text_note)\n",
    "    attention = words_attention[j]\n",
    "    # Weight the word level attention by note level attention\n",
    "    for k in range(len(attention)):\n",
    "        attention[k] = list(np.array(attention[k])*notes_attention[j][k])\n",
    "    output_file = 'SUBJECT_ID_'+str(data.item()['SUBJECT_ID'][j]) +'.html'\n",
    "\n",
    "    print_visualisation(text_note_total, attention, notes_types,data.item()['SUBJECT_ID'][j],notes_attention[j],timeline, output_file)"
   ]
  },
  {
   "cell_type": "code",
   "execution_count": 320,
   "metadata": {},
   "outputs": [
    {
     "name": "stdout",
     "output_type": "stream",
     "text": [
      "The 0 th patient\n",
      "\n",
      "(1, 179)\n"
     ]
    },
    {
     "ename": "IndexError",
     "evalue": "list index out of range",
     "output_type": "error",
     "traceback": [
      "\u001b[0;31m---------------------------------------------------------------------------\u001b[0m",
      "\u001b[0;31mIndexError\u001b[0m                                Traceback (most recent call last)",
      "\u001b[0;32m<ipython-input-320-42dd2c01ad91>\u001b[0m in \u001b[0;36m<module>\u001b[0;34m()\u001b[0m\n\u001b[1;32m     13\u001b[0m     \u001b[0moutput_file\u001b[0m \u001b[0;34m=\u001b[0m \u001b[0;34m'SUBJECT_ID_'\u001b[0m\u001b[0;34m+\u001b[0m\u001b[0mstr\u001b[0m\u001b[0;34m(\u001b[0m\u001b[0mdata\u001b[0m\u001b[0;34m.\u001b[0m\u001b[0mitem\u001b[0m\u001b[0;34m(\u001b[0m\u001b[0;34m)\u001b[0m\u001b[0;34m[\u001b[0m\u001b[0;34m'SUBJECT_ID'\u001b[0m\u001b[0;34m]\u001b[0m\u001b[0;34m[\u001b[0m\u001b[0mj\u001b[0m\u001b[0;34m]\u001b[0m\u001b[0;34m)\u001b[0m \u001b[0;34m+\u001b[0m\u001b[0;34m'.html'\u001b[0m\u001b[0;34m\u001b[0m\u001b[0m\n\u001b[1;32m     14\u001b[0m     \u001b[0mprint\u001b[0m\u001b[0;34m(\u001b[0m\u001b[0mnp\u001b[0m\u001b[0;34m.\u001b[0m\u001b[0mshape\u001b[0m\u001b[0;34m(\u001b[0m\u001b[0mattention\u001b[0m\u001b[0;34m)\u001b[0m\u001b[0;34m)\u001b[0m\u001b[0;34m\u001b[0m\u001b[0m\n\u001b[0;32m---> 15\u001b[0;31m     \u001b[0mprint_visualisation\u001b[0m\u001b[0;34m(\u001b[0m\u001b[0mtext_note_total\u001b[0m\u001b[0;34m,\u001b[0m \u001b[0mattention\u001b[0m\u001b[0;34m,\u001b[0m \u001b[0mnotes_types\u001b[0m\u001b[0;34m,\u001b[0m\u001b[0mdata\u001b[0m\u001b[0;34m.\u001b[0m\u001b[0mitem\u001b[0m\u001b[0;34m(\u001b[0m\u001b[0;34m)\u001b[0m\u001b[0;34m[\u001b[0m\u001b[0;34m'SUBJECT_ID'\u001b[0m\u001b[0;34m]\u001b[0m\u001b[0;34m[\u001b[0m\u001b[0mj\u001b[0m\u001b[0;34m]\u001b[0m\u001b[0;34m,\u001b[0m\u001b[0mnotes_attention\u001b[0m\u001b[0;34m[\u001b[0m\u001b[0mj\u001b[0m\u001b[0;34m]\u001b[0m\u001b[0;34m,\u001b[0m\u001b[0mtimeline\u001b[0m\u001b[0;34m,\u001b[0m \u001b[0moutput_file\u001b[0m\u001b[0;34m)\u001b[0m\u001b[0;34m\u001b[0m\u001b[0m\n\u001b[0m",
      "\u001b[0;32m<ipython-input-245-a195fc32f466>\u001b[0m in \u001b[0;36mprint_visualisation\u001b[0;34m(X, Y, notes_types, SUBJECT_ID, notes_attention, time_line, output_file)\u001b[0m\n\u001b[1;32m     16\u001b[0m         \u001b[0mprint\u001b[0m\u001b[0;34m(\u001b[0m\u001b[0;34m'<h3 style = \"font-family:Comic Sans MS;\"> Note Type: '\u001b[0m\u001b[0;34m+\u001b[0m\u001b[0mstr\u001b[0m\u001b[0;34m(\u001b[0m\u001b[0mnotes_types\u001b[0m\u001b[0;34m[\u001b[0m\u001b[0mk\u001b[0m\u001b[0;34m]\u001b[0m\u001b[0;34m)\u001b[0m \u001b[0;34m+\u001b[0m\u001b[0;34m' attention weight: '\u001b[0m \u001b[0;34m+\u001b[0m \u001b[0mstr\u001b[0m\u001b[0;34m(\u001b[0m\u001b[0mnotes_attention\u001b[0m\u001b[0;34m[\u001b[0m\u001b[0mk\u001b[0m\u001b[0;34m]\u001b[0m\u001b[0;34m)\u001b[0m\u001b[0;34m+\u001b[0m \u001b[0;34m'</h3>'\u001b[0m\u001b[0;34m,\u001b[0m \u001b[0mfile\u001b[0m \u001b[0;34m=\u001b[0m \u001b[0moutput_file\u001b[0m\u001b[0;34m)\u001b[0m\u001b[0;34m\u001b[0m\u001b[0m\n\u001b[1;32m     17\u001b[0m         \u001b[0;32mfor\u001b[0m \u001b[0mi\u001b[0m \u001b[0;32min\u001b[0m \u001b[0mrange\u001b[0m\u001b[0;34m(\u001b[0m\u001b[0mlen\u001b[0m\u001b[0;34m(\u001b[0m\u001b[0mX\u001b[0m\u001b[0;34m[\u001b[0m\u001b[0mk\u001b[0m\u001b[0;34m]\u001b[0m\u001b[0;34m)\u001b[0m\u001b[0;34m)\u001b[0m\u001b[0;34m:\u001b[0m\u001b[0;34m\u001b[0m\u001b[0m\n\u001b[0;32m---> 18\u001b[0;31m             \u001b[0mprint\u001b[0m\u001b[0;34m(\u001b[0m\u001b[0;34m'<span style=\"background-color:'\u001b[0m \u001b[0;34m+\u001b[0m \u001b[0mstr\u001b[0m\u001b[0;34m(\u001b[0m\u001b[0;34m(\u001b[0m\u001b[0mmpl\u001b[0m\u001b[0;34m.\u001b[0m\u001b[0mcolors\u001b[0m\u001b[0;34m.\u001b[0m\u001b[0mto_hex\u001b[0m\u001b[0;34m(\u001b[0m\u001b[0mm\u001b[0m\u001b[0;34m.\u001b[0m\u001b[0mto_rgba\u001b[0m\u001b[0;34m(\u001b[0m\u001b[0mY\u001b[0m\u001b[0;34m[\u001b[0m\u001b[0mk\u001b[0m\u001b[0;34m]\u001b[0m\u001b[0;34m[\u001b[0m\u001b[0mi\u001b[0m\u001b[0;34m]\u001b[0m\u001b[0;34m)\u001b[0m\u001b[0;34m)\u001b[0m\u001b[0;34m.\u001b[0m\u001b[0mupper\u001b[0m\u001b[0;34m(\u001b[0m\u001b[0;34m)\u001b[0m\u001b[0;34m)\u001b[0m\u001b[0;34m)\u001b[0m                  \u001b[0;34m+\u001b[0m\u001b[0;34m';font-family:verdana;\">'\u001b[0m\u001b[0;34m+\u001b[0m\u001b[0;34m''\u001b[0m\u001b[0;34m.\u001b[0m\u001b[0mjoin\u001b[0m\u001b[0;34m(\u001b[0m\u001b[0mX\u001b[0m\u001b[0;34m[\u001b[0m\u001b[0mk\u001b[0m\u001b[0;34m]\u001b[0m\u001b[0;34m[\u001b[0m\u001b[0mi\u001b[0m\u001b[0;34m]\u001b[0m\u001b[0;34m)\u001b[0m\u001b[0;34m+\u001b[0m\u001b[0;34m'</span>'\u001b[0m\u001b[0;34m,\u001b[0m \u001b[0mfile\u001b[0m \u001b[0;34m=\u001b[0m \u001b[0moutput_file\u001b[0m\u001b[0;34m)\u001b[0m\u001b[0;34m\u001b[0m\u001b[0m\n\u001b[0m\u001b[1;32m     19\u001b[0m         \u001b[0mprint\u001b[0m\u001b[0;34m(\u001b[0m\u001b[0;34m'</br>'\u001b[0m\u001b[0;34m,\u001b[0m \u001b[0mfile\u001b[0m \u001b[0;34m=\u001b[0m \u001b[0moutput_file\u001b[0m\u001b[0;34m)\u001b[0m\u001b[0;34m\u001b[0m\u001b[0m\n\u001b[1;32m     20\u001b[0m         \u001b[0mprint\u001b[0m\u001b[0;34m(\u001b[0m\u001b[0;34m'</br>'\u001b[0m\u001b[0;34m,\u001b[0m \u001b[0mfile\u001b[0m \u001b[0;34m=\u001b[0m \u001b[0moutput_file\u001b[0m\u001b[0;34m)\u001b[0m\u001b[0;34m\u001b[0m\u001b[0m\n",
      "\u001b[0;31mIndexError\u001b[0m: list index out of range"
     ]
    }
   ],
   "source": [
    "for j in range(len(data.item()['DATA'])):\n",
    "    if j % 50 == 0:\n",
    "        print('The %d th patient\\n'%j)\n",
    "    text_note_total = []\n",
    "    for i in range(len(data.item()['DATA'][j])):\n",
    "        note = data.item()['DATA'][j][i]\n",
    "        text_note = [voc[note[j]-1] for j in range(len(note))]\n",
    "        text_note_total.append(text_note)\n",
    "    attention = words_max_attention[j]\n",
    "    # Weight the word level attention by note level attention\n",
    "    for k in range(len(attention)):\n",
    "        attention[k] = list(np.array(attention[k])*notes_attention[j][k])\n",
    "    output_file = 'SUBJECT_ID_'+str(data.item()['SUBJECT_ID'][j]) +'.html'\n",
    "    print(np.shape(attention))\n",
    "    print_visualisation(text_note_total, attention, notes_types,data.item()['SUBJECT_ID'][j],notes_attention[j],timeline, output_file)"
   ]
  },
  {
   "cell_type": "code",
   "execution_count": 497,
   "metadata": {},
   "outputs": [
    {
     "data": {
      "text/plain": [
       "0.29733074"
      ]
     },
     "execution_count": 497,
     "metadata": {},
     "output_type": "execute_result"
    }
   ],
   "source": [
    "notes_attention[0][1]"
   ]
  },
  {
   "cell_type": "code",
   "execution_count": null,
   "metadata": {
    "collapsed": true
   },
   "outputs": [],
   "source": []
  }
 ],
 "metadata": {
  "kernelspec": {
   "display_name": "Python 3",
   "language": "python",
   "name": "python3"
  },
  "language_info": {
   "codemirror_mode": {
    "name": "ipython",
    "version": 3
   },
   "file_extension": ".py",
   "mimetype": "text/x-python",
   "name": "python",
   "nbconvert_exporter": "python",
   "pygments_lexer": "ipython3",
   "version": "3.6.2"
  }
 },
 "nbformat": 4,
 "nbformat_minor": 2
}
