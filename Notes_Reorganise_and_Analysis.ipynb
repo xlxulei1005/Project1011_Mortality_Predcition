{
 "cells": [
  {
   "cell_type": "code",
   "execution_count": 1,
   "metadata": {
    "collapsed": true
   },
   "outputs": [],
   "source": [
    "import pandas as pd\n",
    "from dateutil import parser\n",
    "import matplotlib.pyplot as plt\n",
    "import numpy as np\n",
    "% matplotlib inline\n",
    "import pickle\n",
    "nat = np.datetime64('NaT')"
   ]
  },
  {
   "cell_type": "code",
   "execution_count": 3,
   "metadata": {
    "collapsed": true
   },
   "outputs": [],
   "source": [
    "import pandas as pd\n",
    "admission_table=pd.read_csv('data/ADMISSIONS.csv')\n",
    "notes_table=pd.read_csv('data/NOTEEVENTS.csv')\n",
    "data_merged = pd.merge(notes_table, admission_table, how='left', on=['SUBJECT_ID', 'HADM_ID'])"
   ]
  },
  {
   "cell_type": "code",
   "execution_count": null,
   "metadata": {
    "collapsed": true
   },
   "outputs": [],
   "source": [
    "# take the first addmission time \n",
    "admission_table['ADMITTIME']=admission_table['ADMITTIME'].map(lambda x: parser.parse(x))\n",
    "sub_hops_admission = admission_table.groupby(['SUBJECT_ID'])['ADMITTIME'].unique()\n",
    "sub_hops_admission = sub_hops_admission.map(lambda x: sorted(x)[0])\n",
    "first_adm = pd.DataFrame({'SUBJECT_ID': sub_hops_admission.index,'ADMITTIME':sub_hops_admission.values })\n",
    "first_adm = pd.merge(first_adm, admission_table, how = 'left', on = ['SUBJECT_ID','ADMITTIME' ] )\n",
    "id_first = set(first_adm['HADM_ID'])\n",
    "label = [x in id_first for x in data_merged['HADM_ID'] ]"
   ]
  },
  {
   "cell_type": "code",
   "execution_count": null,
   "metadata": {
    "collapsed": true
   },
   "outputs": [],
   "source": [
    "len(first_adm)\n",
    "data_merged = data_merged[label]\n",
    "len(data_merged)\n",
    "len(notes_table)\n",
    "data_merged = data_merged[~pd.isnull(data_merged['CHARTTIME'])]\n",
    "len(data_merged)\n",
    "data_merged.columns\n",
    "data_merged['DISCHARGE_LOCATION'].unique()\n",
    "data_merged['CATEGORY'].unique()\n",
    "sum(pd.isnull(data_merged['DEATHTIME']))/len(data_merged)\n",
    "type(data_merged['DEATHTIME'][308691])\n",
    "data_merged['DEATHTIME']= [parser.parse(x) if type(x)!=float else x for x in data_merged['DEATHTIME']]\n",
    "data_merged['DEATHTIME'] = pd.to_datetime(data_merged['DEATHTIME'])\n",
    "print('DEATHTIME')\n",
    "data_merged['ADMITTIME']=data_merged['ADMITTIME'].map(lambda x: parser.parse(x))\n",
    "print('ADMITTIME')\n",
    "data_merged['DISCHTIME']=data_merged['DISCHTIME'].map(lambda x: parser.parse(x))\n",
    "print('DISCHTIME')\n",
    "data_merged['CHARTTIME']=data_merged['CHARTTIME'].map(lambda x: parser.parse(x))\n",
    "print('CHARTTIME')\n",
    "time_only = data_merged[~pd.isnull(data_merged['DEATHTIME'])][['SUBJECT_ID','CHARTTIME', 'DISCHTIME','DEATHTIME']]\n",
    "len(time_only[time_only['DEATHTIME'] != time_only['DISCHTIME']]['SUBJECT_ID'].unique())\n",
    "subject_ID_list = data_merged['SUBJECT_ID'].unique()\n",
    "print( sum(data_merged.groupby(['SUBJECT_ID'])['DISCHTIME'].nunique() != 1))\n",
    "print( sum(data_merged.groupby(['SUBJECT_ID'])['ADMITTIME'].nunique() != 1))\n",
    "print( sum(data_merged.groupby(['SUBJECT_ID'])['DEATHTIME'].nunique() > 1))\n",
    "CHARTTIMElist = data_merged.groupby(['SUBJECT_ID'])['CHARTTIME'].unique()\n",
    "ADMITTIMElist = data_merged.groupby(['SUBJECT_ID'])['ADMITTIME'].unique()\n",
    "DEATHTIMElist = data_merged.groupby(['SUBJECT_ID'])['DEATHTIME'].unique()\n",
    "DISCHTIMElist = data_merged.groupby(['SUBJECT_ID'])['DISCHTIME'].unique()\n",
    "sub_time_dictionary = {}\n",
    "for sub in subject_ID_list:\n",
    "    sub_time_dictionary[sub] = {}\n",
    "    sub_time_dictionary[sub]['CHARTTIME'] = CHARTTIMElist[sub]\n",
    "    sub_time_dictionary[sub]['ADMITTIME'] = ADMITTIMElist[sub]\n",
    "    sub_time_dictionary[sub]['DEATHTIME'] = DEATHTIMElist[sub]\n",
    "    sub_time_dictionary[sub]['DISCHTIME'] = DISCHTIMElist[sub]\n",
    "\n",
    "\n",
    "error_sub = []\n",
    "\n",
    "for sub in subject_ID_list:\n",
    "    sub_time_dictionary[sub]['CHARTTIME_valid'] = [x for x in sub_time_dictionary[sub]['CHARTTIME'] \n",
    "                                                   if x < sub_time_dictionary[sub]['DISCHTIME']]\n",
    "    try:\n",
    "        sub_time_dictionary[sub]['CHARTTIME_interval'] = (sub_time_dictionary[sub]['CHARTTIME_valid'] - \n",
    "                                                          sub_time_dictionary[sub]['ADMITTIME']).astype('timedelta64[m]')\n",
    "    except TypeError:\n",
    "        #print(sub)\n",
    "        error_sub.append(sub)\n",
    "        \n",
    "error_adult = []\n",
    "for sub in error_sub:\n",
    "    if sub_time_dictionary[sub]['ADMITTIME'] > sub_time_dictionary[sub]['DEATHTIME'] and sub in subject_adult:\n",
    "        #print('error',sub)\n",
    "        error_adult.append(sub)\n",
    "    else:\n",
    "        pass\n",
    "    \n",
    "        #print(sub) "
   ]
  },
  {
   "cell_type": "code",
   "execution_count": 3,
   "metadata": {},
   "outputs": [
    {
     "name": "stdout",
     "output_type": "stream",
     "text": [
      "31369\n"
     ]
    }
   ],
   "source": [
    "valid_subject = pd.read_csv('data/id_inhospital_deathtime.csv', index_col = 0)\n",
    "print(sum(pd.isnull(valid_subject['DEATHTIME'])))\n",
    "subject_adult = valid_subject['SUBJECT_ID']\n",
    "valid_subject['DEATHTIME']= [parser.parse(x) if type(x)!=float else x for x in valid_subject['DEATHTIME']]\n",
    "valid_subject['DEATHTIME'] = pd.to_datetime(valid_subject['DEATHTIME'])"
   ]
  },
  {
   "cell_type": "code",
   "execution_count": null,
   "metadata": {
    "collapsed": true
   },
   "outputs": [],
   "source": [
    "sub_time_dictionary_final = {}\n",
    "for sub in valid_sub_final:\n",
    "    sub_time_dictionary_final[sub] = sub_time_dictionary[sub]\n",
    "\n",
    "for sub in valid_sub_final:\n",
    "    sub_time_dictionary_final[sub]['DEATHTIME'] = np.array(valid_subject[valid_subject['SUBJECT_ID'] == sub]['DEATHTIME'])\n",
    "\n",
    "with open('data/patient_timesheet_final.pickle', 'wb') as handle:\n",
    "    pickle.dump(sub_time_dictionary_final, handle)\n",
    "  "
   ]
  },
  {
   "cell_type": "code",
   "execution_count": 38,
   "metadata": {
    "collapsed": true
   },
   "outputs": [],
   "source": [
    "# summary table creation\n",
    "def summary_table_creation(time_dictionary, valid_sub):\n",
    "    time_interval = np.array([15, 6*60, 12*60, 24*60]).astype('timedelta64[m]')\n",
    "\n",
    "    notes_counts = {}\n",
    "    for sub in valid_sub:\n",
    "        try:\n",
    "            sub_list = np.zeros(5)\n",
    "            for interval in time_dictionary[sub]['CHARTTIME_interval']:\n",
    "                if interval<=time_interval[0]:\n",
    "                    sub_list[0] += 1\n",
    "                if interval<=time_interval[1]:\n",
    "                    sub_list[1] += 1\n",
    "                if interval<=time_interval[2]:\n",
    "                    sub_list[2] += 1\n",
    "                if interval<=time_interval[3]:\n",
    "                    sub_list[3] += 1\n",
    "            sub_list[4] = len(time_dictionary[sub]['CHARTTIME_interval']) \n",
    "            notes_counts[sub] = sub_list\n",
    "        except KeyError:\n",
    "            #print(sub)\n",
    "            #error_sub.append(sub)\n",
    "            pass \n",
    "    notes_counts_table = pd.DataFrame(notes_counts).T\n",
    "    notes_counts_table.columns  = ['15 minutes', '6 hours', '12 hours', '24 hours', 'Over 24 hours']\n",
    "    return notes_counts, notes_counts_table"
   ]
  },
  {
   "cell_type": "code",
   "execution_count": 58,
   "metadata": {
    "collapsed": true
   },
   "outputs": [],
   "source": [
    "valid_sub_after_admission = valid_sub_final - set(subject_no_valid_notes)"
   ]
  },
  {
   "cell_type": "code",
   "execution_count": 62,
   "metadata": {},
   "outputs": [
    {
     "name": "stdout",
     "output_type": "stream",
     "text": [
      "15 minutes:  [ 0.  1.  2.  3.]\n",
      "6 hours:  [ 2.  1.  0.  4.  5.  3.  6.  7.  8.  9.]\n",
      "12 hours:  [  4.   1.   3.   2.   0.   5.   6.   7.   9.   8.  11.  10.  13.]\n",
      "24 hours:  [  6.   4.   5.   2.   3.   1.   0.   7.  14.  10.   9.   8.  13.  11.  12.\n",
      "  15.  17.  16.  18.]\n"
     ]
    },
    {
     "data": {
      "image/png": "[encoded data removed]",
      "text/plain": [
       "<matplotlib.figure.Figure at 0x157ef0f98>"
      ]
     },
     "metadata": {},
     "output_type": "display_data"
    }
   ],
   "source": [
    "notes_counts, notes_counts_table = summary_table_creation(sub_time_dictionary_final, valid_sub_after_admission)\n",
    "\n",
    "notes_counts_table['15 minutes'].value_counts().plot.bar(title = '15 minutes')\n",
    "plt.xlabel('number of notes')\n",
    "\n",
    "notes_counts_table['6 hours'].value_counts().plot.bar(title = '6 hours')\n",
    "plt.xlabel('number of notes')\n",
    "\n",
    "notes_counts_table['12 hours'].value_counts().plot.bar(title = '12 hours')\n",
    "plt.xlabel('number of notes')\n",
    "\n",
    "notes_counts_table['24 hours'].value_counts().plot.bar(title = '24 hours')\n",
    "plt.xlabel('number of notes')\n",
    "\n",
    "# notes_counts_table['Over 24 hours'].value_counts().plot.hist(bins = 30, title = 'Over 24 hours')\n",
    "# plt.xlabel('number of notes')\n",
    "\n",
    "notes_counts_table[['15 minutes', '6 hours', '12 hours', '24 hours', 'Over 24 hours']].sum(1).hist(bins = 1000)\n",
    "plt.title('Number of notes per person')\n",
    "\n",
    "np.log2(notes_counts_table[['15 minutes', '6 hours', '12 hours', '24 hours', 'Over 24 hours']].sum(1)).hist(bins = 60)\n",
    "plt.title('Number of notes per person')\n",
    "plt.ylabel('Number of subjects (log2)')\n",
    "\n",
    "print('15 minutes: ',str(notes_counts_table['15 minutes'].unique()))\n",
    "print('6 hours: ',str(notes_counts_table['6 hours'].unique()))\n",
    "print('12 hours: ',str(notes_counts_table['12 hours'].unique()))\n",
    "print('24 hours: ',str(notes_counts_table['24 hours'].unique()))\n",
    "notes_counts_table.to_csv('notes_summary.csv')"
   ]
  },
  {
   "cell_type": "code",
   "execution_count": 69,
   "metadata": {},
   "outputs": [],
   "source": [
    "sub_with_notes_in_15min = notes_counts_table[notes_counts_table['15 minutes']!= 0].index\n",
    "death_time \n",
    "for sub in sub_with_notes_in_15min:"
   ]
  },
  {
   "cell_type": "code",
   "execution_count": 61,
   "metadata": {},
   "outputs": [
    {
     "name": "stdout",
     "output_type": "stream",
     "text": [
      "Index(['15 minutes', '6 hours', '12 hours', '24 hours', 'Over 24 hours',\n",
      "       'SUBJECT_ID'],\n",
      "      dtype='object')\n",
      "Number of subjects with less than 3 notes: 0\n",
      "NUmber of subjects :  34263\n",
      "Number of notes:\n",
      "15 minutes       1.133000e+03\n",
      "6 hours          3.166800e+04\n",
      "12 hours         6.119900e+04\n",
      "24 hours         1.124970e+05\n",
      "Over 24 hours    6.616610e+05\n",
      "SUBJECT_ID       1.254829e+09\n",
      "dtype: float64\n",
      "Number of patients:\n",
      "15 minutes        1065\n",
      "6 hours          19103\n",
      "12 hours         26678\n",
      "24 hours         30383\n",
      "Over 24 hours    34263\n",
      "SUBJECT_ID       34263\n",
      "dtype: int64\n",
      "Number of notes:\n",
      "15 minutes             177.0\n",
      "6 hours               5058.0\n",
      "12 hours              9347.0\n",
      "24 hours             16989.0\n",
      "Over 24 hours       143420.0\n",
      "SUBJECT_ID       150638406.0\n",
      "dtype: float64\n",
      "Number of patients:\n",
      "15 minutes        172\n",
      "6 hours          2785\n",
      "12 hours         3605\n",
      "24 hours         4069\n",
      "Over 24 hours    4656\n",
      "SUBJECT_ID       4656\n",
      "DEATHTIME        4656\n",
      "dtype: int64\n"
     ]
    }
   ],
   "source": [
    "notes_counts_table['SUBJECT_ID'] = notes_counts_table.index\n",
    "print(notes_counts_table.columns)\n",
    "print('Number of subjects with less than 3 notes:', sum(notes_counts_table.sum(1) < 3))\n",
    "print('NUmber of subjects : ', len(notes_counts_table))\n",
    "print('Number of notes:')\n",
    "print(str((notes_counts_table).sum(0)))\n",
    "print('Number of patients:')\n",
    "print(str((notes_counts_table>0).sum(0)))\n",
    "\n",
    "notes_counts_table_with_time = pd.merge(notes_counts_table, valid_subject, how = 'left', on = ['SUBJECT_ID'])\n",
    "notes_counts_table_with_recover = notes_counts_table_with_time[notes_counts_table_with_time.DEATHTIME.isnull()]\n",
    "notes_counts_table_with_death = notes_counts_table_with_time[~notes_counts_table_with_time.DEATHTIME.isnull()]\n",
    "notes_counts_table_with_death[['15 minutes', '6 hours', '12 hours', '24 hours', 'Over 24 hours']].sum().sum()\n",
    "print('Number of notes:')\n",
    "print(str(notes_counts_table_with_death.sum(0)))\n",
    "print('Number of patients:')\n",
    "print(str((notes_counts_table_with_death>0).sum(0)))"
   ]
  },
  {
   "cell_type": "code",
   "execution_count": 47,
   "metadata": {
    "collapsed": true
   },
   "outputs": [],
   "source": [
    "with open('data/patient_timesheet_final.pickle', 'rb') as handle:\n",
    "     sub_time_dictionary_final = pickle.load(handle)\n",
    "        \n",
    "valid_sub_final = set(sub_time_dictionary_final.keys()) & set(valid_subject['SUBJECT_ID']) \n",
    "\n",
    "      "
   ]
  },
  {
   "cell_type": "code",
   "execution_count": 48,
   "metadata": {},
   "outputs": [],
   "source": [
    "for sub in valid_sub_final:\n",
    "    sub_time_dictionary_final[sub]['CHARTTIME_valid'] = [x for x in sub_time_dictionary_final[sub]['CHARTTIME'] \n",
    "                                                   if x < sub_time_dictionary_final[sub]['DISCHTIME'] and x >sub_time_dictionary_final[sub]['ADMITTIME']]\n",
    "    \n",
    "error_sub = []\n",
    "for sub in valid_sub_final:\n",
    "    try:\n",
    "        sub_time_dictionary_final[sub]['CHARTTIME_interval'] = (sub_time_dictionary_final[sub]['CHARTTIME_valid'] - \n",
    "                                                          sub_time_dictionary_final[sub]['ADMITTIME']).astype('timedelta64[m]')\n",
    "    except TypeError:\n",
    "        #print(sub)\n",
    "        error_sub.append(sub)\n",
    "        \n",
    "# sub_for_table = []\n",
    "# charttime_for_table = []\n",
    "# for sub in sub_time_dictionary_final:\n",
    "#     for charttime in sub_time_dictionary_final[sub]['CHARTTIME']:\n",
    "#         notes_table_useful[notes_table_useful['SUBJECT_ID'] == sub][notes_table_useful['CHARTTIME'] == charttime]['TEXT']\n",
    "\n",
    "error_sub = []\n",
    "stay_interval = []\n",
    "for sub in valid_sub_final:\n",
    "    try:\n",
    "        sub_time_dictionary_final[sub]['Stay_interval'] = (sub_time_dictionary_final[sub]['DISCHTIME'] - \n",
    "                                                          sub_time_dictionary_final[sub]['ADMITTIME']).astype('timedelta64[D]')\n",
    "        stay_interval.append(sub_time_dictionary_final[sub]['Stay_interval'][0].astype(int))\n",
    "    except TypeError:\n",
    "        #print(sub)\n",
    "        error_sub.append(sub)\n",
    "\n",
    "error_sub = []\n",
    "for sub in valid_sub_final:\n",
    "    try:\n",
    "        sub_time_dictionary_final[sub]['CHARTTIME_todeath'] = (sub_time_dictionary_final[sub]['DISCHTIME'] - \n",
    "                                                          sub_time_dictionary_final[sub]['CHARTTIME_valid']).astype('timedelta64[m]')\n",
    "    except TypeError:\n",
    "        #print(sub)\n",
    "        error_sub.append(sub)"
   ]
  },
  {
   "cell_type": "code",
   "execution_count": 55,
   "metadata": {},
   "outputs": [],
   "source": [
    "subject_no_valid_notes = []\n",
    "for sub in valid_sub_final:\n",
    "    if len(sub_time_dictionary_final[sub]['CHARTTIME_valid']) == 0:\n",
    "        subject_no_valid_notes.append(sub)"
   ]
  },
  {
   "cell_type": "code",
   "execution_count": 56,
   "metadata": {},
   "outputs": [
    {
     "data": {
      "text/plain": [
       "609"
      ]
     },
     "execution_count": 56,
     "metadata": {},
     "output_type": "execute_result"
    }
   ],
   "source": [
    "len(subject_no_valid_notes)"
   ]
  },
  {
   "cell_type": "code",
   "execution_count": 12,
   "metadata": {
    "collapsed": true
   },
   "outputs": [],
   "source": [
    "stay_interval = np.array(stay_interval)"
   ]
  },
  {
   "cell_type": "code",
   "execution_count": 13,
   "metadata": {},
   "outputs": [
    {
     "data": {
      "text/plain": [
       "<matplotlib.text.Text at 0x16c81e6d8>"
      ]
     },
     "execution_count": 13,
     "metadata": {},
     "output_type": "execute_result"
    },
    {
     "data": {
      "image/png": "[encoded data removed]",
      "text/plain": [
       "<matplotlib.figure.Figure at 0x160f50d68>"
      ]
     },
     "metadata": {},
     "output_type": "display_data"
    }
   ],
   "source": [
    "plt.hist(stay_interval[stay_interval<100], bins = 40)\n",
    "plt.title('Entire Stay Distribution per person')\n",
    "plt.xlabel('Number of Days')"
   ]
  },
  {
   "cell_type": "code",
   "execution_count": 471,
   "metadata": {},
   "outputs": [
    {
     "data": {
      "text/plain": [
       "<matplotlib.text.Text at 0x139cb9630>"
      ]
     },
     "execution_count": 471,
     "metadata": {},
     "output_type": "execute_result"
    },
    {
     "data": {
      "image/png": "[encoded data removed]",
      "text/plain": [
       "<matplotlib.figure.Figure at 0x154d170b8>"
      ]
     },
     "metadata": {},
     "output_type": "display_data"
    }
   ],
   "source": [
    "plt.hist(np.log2(stay_interval+2), bins = 40)\n",
    "plt.title('Entire Stay Distribution per person')\n",
    "plt.xlabel('Number of Days - log 2 (after plus 2)')"
   ]
  },
  {
   "cell_type": "code",
   "execution_count": 401,
   "metadata": {},
   "outputs": [
    {
     "name": "stderr",
     "output_type": "stream",
     "text": [
      "/Users/apple/anaconda3/lib/python3.5/site-packages/ipykernel/__main__.py:2: SettingWithCopyWarning: \n",
      "A value is trying to be set on a copy of a slice from a DataFrame.\n",
      "Try using .loc[row_indexer,col_indexer] = value instead\n",
      "\n",
      "See the caveats in the documentation: http://pandas.pydata.org/pandas-docs/stable/indexing.html#indexing-view-versus-copy\n",
      "  from ipykernel import kernelapp as app\n",
      "/Users/apple/anaconda3/lib/python3.5/site-packages/ipykernel/__main__.py:3: SettingWithCopyWarning: \n",
      "A value is trying to be set on a copy of a slice from a DataFrame.\n",
      "Try using .loc[row_indexer,col_indexer] = value instead\n",
      "\n",
      "See the caveats in the documentation: http://pandas.pydata.org/pandas-docs/stable/indexing.html#indexing-view-versus-copy\n",
      "  app.launch_new_instance()\n"
     ]
    }
   ],
   "source": [
    "notes_table_useful = notes_table[notes_table['SUBJECT_ID'].isin(valid_sub_final)]\n",
    "notes_table_useful['CHARTTIME']= [parser.parse(x) if type(x)!=float else x for x in notes_table_useful['CHARTTIME']]\n",
    "notes_table_useful['CHARTTIME'] = pd.to_datetime(notes_table_useful['CHARTTIME'])\n",
    "notes_table_useful = notes_table_useful[~pd.isnull(notes_table_useful['CHARTTIME'])]"
   ]
  },
  {
   "cell_type": "code",
   "execution_count": 402,
   "metadata": {
    "collapsed": true
   },
   "outputs": [],
   "source": [
    "documents = list(notes_table_useful['TEXT'])\n",
    "CHARTTIME = list(notes_table_useful['CHARTTIME'])\n",
    "SUBJECT_ID = list(notes_table_useful['SUBJECT_ID'])\n",
    "\n",
    "final_data = {'CHARTTIME':CHARTTIME, 'SUBJECT_ID':SUBJECT_ID,'DOCUMENTS':cleaned_doc }\n",
    "len(CHARTTIME),len(SUBJECT_ID),len(cleaned_doc)\n",
    "\n",
    "with open('data/cleaned_notes.pickle', 'wb') as handle:\n",
    "    pickle.dump(final_data, handle)"
   ]
  },
  {
   "cell_type": "code",
   "execution_count": null,
   "metadata": {
    "collapsed": true
   },
   "outputs": [],
   "source": [
    "final_data = {'CHARTTIME':CHARTTIME, 'SUBJECT_ID':SUBJECT_ID,'DOCUMENTS':cleaned_doc }\n",
    "len(CHARTTIME),len(SUBJECT_ID),len(cleaned_doc)\n",
    "with open('cleaned_notes.pickle', 'wb') as handle:\n",
    "    pickle.dump(final_data, handle)"
   ]
  },
  {
   "cell_type": "code",
   "execution_count": null,
   "metadata": {
    "collapsed": true
   },
   "outputs": [],
   "source": [
    "with open('data/cleaned_notes.pickle', 'wb') as handle:\n",
    "    pickle.dump(final_data, handle)"
   ]
  },
  {
   "cell_type": "code",
   "execution_count": 556,
   "metadata": {
    "collapsed": true
   },
   "outputs": [],
   "source": [
    "final_data_df = pd.DataFrame(final_data)"
   ]
  },
  {
   "cell_type": "code",
   "execution_count": 558,
   "metadata": {
    "collapsed": true
   },
   "outputs": [],
   "source": [
    "final_data_df.to_csv('data/cleaned_notes.csv')"
   ]
  },
  {
   "cell_type": "code",
   "execution_count": 567,
   "metadata": {
    "collapsed": true
   },
   "outputs": [],
   "source": [
    "final_data"
   ]
  },
  {
   "cell_type": "code",
   "execution_count": 545,
   "metadata": {},
   "outputs": [
    {
     "data": {
      "text/plain": [
       "(1280007, 1280007, 1280007)"
      ]
     },
     "execution_count": 545,
     "metadata": {},
     "output_type": "execute_result"
    }
   ],
   "source": [
    "len(CHARTTIME),len(SUBJECT_ID),len(cleaned_doc)"
   ]
  },
  {
   "cell_type": "code",
   "execution_count": 132,
   "metadata": {
    "collapsed": true
   },
   "outputs": [],
   "source": [
    "#sorted(unique_iden)[1000:2000]"
   ]
  },
  {
   "cell_type": "code",
   "execution_count": 249,
   "metadata": {
    "collapsed": true,
    "scrolled": false
   },
   "outputs": [],
   "source": [
    "import sys\n",
    "sys.path.append('data_preprocessing/')"
   ]
  },
  {
   "cell_type": "code",
   "execution_count": 430,
   "metadata": {
    "collapsed": true
   },
   "outputs": [],
   "source": [
    "import identification_transformer \n",
    "\n",
    "def find_unique_identification(documents):\n",
    "    '''\n",
    "    final all unique identification \n",
    "\n",
    "    Returns:\n",
    "       A list of unique identications\n",
    "    '''\n",
    "    identifications = []\n",
    "    for note in documents:\n",
    "        i = 0\n",
    "        while i <len(note):\n",
    "            if note[i] == '[' and note[i+1] == '*':\n",
    "                j = i+1\n",
    "                while note[j-1] != '*' or note[j] != ']':\n",
    "                    j+=1\n",
    "                identifications.append(note[i:j+1])\n",
    "            i+=1\n",
    "    return list(set(identifications))\n",
    "\n",
    "\n",
    "def find_standrad_identification(identification):\n",
    "    return transformer(identification)"
   ]
  },
  {
   "cell_type": "code",
   "execution_count": 431,
   "metadata": {},
   "outputs": [
    {
     "data": {
      "text/plain": [
       "['[**Name2 (NI) 5018**]',\n",
       " '[**Last Name (STitle) 9590**]',\n",
       " '[**Last Name (NamePattern1) 2196**]',\n",
       " '[**Country 3802**]',\n",
       " '[**Telephone/Fax (1) 18661**]',\n",
       " '[**Clip Number (Radiology) 65755**]',\n",
       " '[**2122-10-15**]',\n",
       " '[**2169-7-9**]',\n",
       " '[**Clip Number (Radiology) 66528**]',\n",
       " '[**Serial Number 59229**]']"
      ]
     },
     "execution_count": 431,
     "metadata": {},
     "output_type": "execute_result"
    }
   ],
   "source": [
    "unique_iden = find_unique_identification(documents)\n",
    "#iden_list = [x[3:-3] for x in unique_iden]\n",
    "len(unique_iden)"
   ]
  },
  {
   "cell_type": "code",
   "execution_count": 432,
   "metadata": {
    "collapsed": true
   },
   "outputs": [],
   "source": [
    "\n",
    "unique_identifications = unique_iden\n",
    "standrad_identifications = []\n",
    "for identification in  unique_identifications:\n",
    "    standrad_identifications.append(find_standrad_identification(identification[3:-3]))\n",
    "unique_identification_dictionary = dict(zip(unique_identifications, standrad_identifications)) \n"
   ]
  },
  {
   "cell_type": "code",
   "execution_count": 411,
   "metadata": {},
   "outputs": [
    {
     "data": {
      "text/plain": [
       "12"
      ]
     },
     "execution_count": 411,
     "metadata": {},
     "output_type": "execute_result"
    }
   ],
   "source": [
    "len(set(unique_identification_dictionary.values()))"
   ]
  },
  {
   "cell_type": "code",
   "execution_count": 412,
   "metadata": {},
   "outputs": [
    {
     "name": "stdout",
     "output_type": "stream",
     "text": [
      "   COMPANY CONTACT DATE HOSPITAL LOCATION NAME NUMBER NUMERIC_IDENTIFIER UNIVERSITY URL "
     ]
    }
   ],
   "source": [
    "for x in sorted(list(set(unique_identification_dictionary.values()))):\n",
    "    print(x, end = ' ')"
   ]
  },
  {
   "cell_type": "code",
   "execution_count": 414,
   "metadata": {
    "collapsed": true
   },
   "outputs": [],
   "source": [
    "import data_cleaning\n",
    "import time"
   ]
  },
  {
   "cell_type": "code",
   "execution_count": 442,
   "metadata": {
    "collapsed": true
   },
   "outputs": [],
   "source": [
    "def find_unique_identification(documents, unique_identification_dictionary):\n",
    "    '''\n",
    "    final all unique identification \n",
    "\n",
    "    Returns:\n",
    "       A list of unique identications\n",
    "    '''\n",
    "    identifications = []\n",
    "    new_documents = []\n",
    "    print(len(documents))\n",
    "    all_l = len(documents)\n",
    "    num = 0\n",
    "    start = time.time()\n",
    "    for note in documents:\n",
    "        num+=1\n",
    "        if num%1000 == 0:\n",
    "            print('Processed: ', time.time() - start, num/all_l)\n",
    "        i = 0\n",
    "        new = note\n",
    "        while i <len(note):\n",
    "            if note[i] == '[' and note[i+1] == '*':\n",
    "                j = i+1\n",
    "                while note[j-1] != '*' or note[j] != ']':\n",
    "                    j+=1\n",
    "                identifications.append(note[i:j+1])\n",
    "                #print(unique_identification_dictionary[note[i:j+1]])\n",
    "                #new = new[:i] + [x for x in unique_identification_dictionary[note[i:j+1]]] + new[j+2:]\n",
    "                if len(unique_identification_dictionary) != 0:\n",
    "                    new = new.replace(note[i:j+1] ,unique_identification_dictionary[note[i:j+1]])\n",
    "                else:\n",
    "                    new = new.replace(note[i:j+1] ,find_standrad_identification(note[i:j+1][3:-3]))\n",
    "                #print(note[i:j+1], unique_identification_dictionary[note[i:j+1]])\n",
    "                #print(new)\n",
    "            i+=1\n",
    "        new_documents.append(new)\n",
    "            \n",
    "    return list(set(identifications)), new_documents"
   ]
  },
  {
   "cell_type": "code",
   "execution_count": 561,
   "metadata": {
    "collapsed": true
   },
   "outputs": [],
   "source": [
    "start = time.time()\n",
    "_, cleaned_doc= find_unique_identification(documents,[])\n",
    "print(time.time() - start)"
   ]
  },
  {
   "cell_type": "code",
   "execution_count": 444,
   "metadata": {
    "collapsed": true
   },
   "outputs": [],
   "source": [
    "cleaned_doc = data_cleaning.clean_spaces(cleaned_doc)\n",
    "cleaned_doc = [x.lower() for x in cleaned_doc]"
   ]
  },
  {
   "cell_type": "code",
   "execution_count": 445,
   "metadata": {
    "collapsed": true
   },
   "outputs": [],
   "source": []
  },
  {
   "cell_type": "code",
   "execution_count": 428,
   "metadata": {
    "collapsed": true
   },
   "outputs": [],
   "source": [
    "def identification_reform(documents, unique_identification_dictionary):\n",
    "    '''\n",
    "    Args:\n",
    "        documents: orignal data\n",
    "        unique_identification_dictionary: {'**name1**': 'FIRSTNAME' ....}\n",
    "    Returns:\n",
    "             cleaned_doc: all identification replace by a standrad symbol\n",
    "     '''\n",
    "     \n",
    "    cleaned_doc = []\n",
    "    for note in documents:\n",
    "        for identification in unique_identification_dictionary.keys():\n",
    "            note = note.replace(identification, unique_identification_dictionary[identification])\n",
    "        cleaned_doc.append(note)\n",
    "    return cleaned_doc\n",
    "\n",
    "def clean_spaces(documents):\n",
    "    cleaned_doc = []\n",
    "    for note in documents:\n",
    "        single_space_note = ' '.join(note.split())\n",
    "        cleaned_doc.append(single_space_note)\n",
    "    return cleaned_doc\n"
   ]
  },
  {
   "cell_type": "code",
   "execution_count": 358,
   "metadata": {
    "collapsed": true
   },
   "outputs": [],
   "source": [
    "import string\n",
    "def word_tokenize(documents):\n",
    "    cleaned_doc = []\n",
    "    translator = str.maketrans('', '', string.punctuation)\n",
    "    _treebank_word_tokenizer = TreebankWordTokenizer()\n",
    "    for note in documents:\n",
    "        note = note.translate(translator)\n",
    "        note = note.replace('0','#')\n",
    "        note = note.replace('1','#')\n",
    "        note = note.replace('2','#')\n",
    "        note = note.replace('3','#')\n",
    "        note = note.replace('4','#')\n",
    "        note = note.replace('5','#')\n",
    "        note = note.replace('6','#')\n",
    "        note = note.replace('7','#')\n",
    "        note = note.replace('8','#')\n",
    "        note = note.replace('9','#')\n",
    "        tokenized_note = _treebank_word_tokenizer.tokenize(note)\n",
    "        cleaned_doc.append(tokenized_note)\n",
    "    return cleaned_doc"
   ]
  },
  {
   "cell_type": "code",
   "execution_count": 359,
   "metadata": {
    "collapsed": true
   },
   "outputs": [],
   "source": [
    "from nltk.tokenize.treebank import TreebankWordTokenizer"
   ]
  },
  {
   "cell_type": "code",
   "execution_count": 360,
   "metadata": {
    "collapsed": true
   },
   "outputs": [],
   "source": [
    "start = time.time()\n",
    "tokens = word_tokenize(cleaned_doc[:1000])\n",
    "print(time.time() - start)"
   ]
  },
  {
   "cell_type": "code",
   "execution_count": 92,
   "metadata": {
    "collapsed": true
   },
   "outputs": [],
   "source": []
  },
  {
   "cell_type": "code",
   "execution_count": 166,
   "metadata": {
    "collapsed": true
   },
   "outputs": [],
   "source": []
  },
  {
   "cell_type": "code",
   "execution_count": 174,
   "metadata": {
    "collapsed": true
   },
   "outputs": [],
   "source": []
  },
  {
   "cell_type": "code",
   "execution_count": 177,
   "metadata": {},
   "outputs": [
    {
     "data": {
      "text/plain": [
       "0.78512426311168448"
      ]
     },
     "execution_count": 177,
     "metadata": {},
     "output_type": "execute_result"
    }
   ],
   "source": [
    "auc_calculation('val_15m', './model/val_15m_wc20_dim300_epoch80.prob',labels_dict)"
   ]
  },
  {
   "cell_type": "code",
   "execution_count": null,
   "metadata": {
    "collapsed": true
   },
   "outputs": [],
   "source": []
  }
 ],
 "metadata": {
  "anaconda-cloud": {},
  "kernelspec": {
   "display_name": "Python [Root]",
   "language": "python",
   "name": "Python [Root]"
  },
  "language_info": {
   "codemirror_mode": {
    "name": "ipython",
    "version": 3
   },
   "file_extension": ".py",
   "mimetype": "text/x-python",
   "name": "python",
   "nbconvert_exporter": "python",
   "pygments_lexer": "ipython3",
   "version": "3.5.2"
  }
 },
 "nbformat": 4,
 "nbformat_minor": 2
}
