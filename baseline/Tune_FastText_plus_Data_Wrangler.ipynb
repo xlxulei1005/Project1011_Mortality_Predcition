{
 "cells": [
  {
   "cell_type": "code",
   "execution_count": 1,
   "metadata": {
    "collapsed": false,
    "deletable": true,
    "editable": true
   },
   "outputs": [],
   "source": [
    "import fasttext\n",
    "import itertools\n",
    "import os\n",
    "from sklearn.metrics import roc_auc_score\n",
    "import matplotlib.pyplot as plt\n",
    "from tqdm import tqdm\n",
    "import pandas as pd\n",
    "from mpl_toolkits.mplot3d import Axes3D\n",
    "import numpy as np\n",
    "from collections import Counter"
   ]
  },
  {
   "cell_type": "markdown",
   "metadata": {
    "deletable": true,
    "editable": true
   },
   "source": [
    "### Config"
   ]
  },
  {
   "cell_type": "code",
   "execution_count": null,
   "metadata": {
    "collapsed": true,
    "deletable": true,
    "editable": true
   },
   "outputs": [],
   "source": [
    "path = './data/'#the folder where your dataset is saved(assume train, val, test are saved under the same dir)\n",
    "time = '24h'\n",
    "train_path = path + 'train_' + time + '.txt'\n",
    "val_path = path + 'val_' + time + '.txt'"
   ]
  },
  {
   "cell_type": "code",
   "execution_count": 2,
   "metadata": {
    "collapsed": false,
    "deletable": true,
    "editable": true
   },
   "outputs": [],
   "source": [
    "epoch_para = [10, 15, 20, 25, 30]\n",
    "lr_para = [0.001,0.005,0.01, 0.05, 0.1, 0.15, 0.2]\n",
    "ws_para = [5, 10, 15, 20, 25,30]\n",
    "x = []\n",
    "x.append(epoch_para)\n",
    "x.append(lr_para)\n",
    "x.append(ws_para)\n",
    "para_pair = list(itertools.product(*x))"
   ]
  },
  {
   "cell_type": "markdown",
   "metadata": {
    "deletable": true,
    "editable": true
   },
   "source": [
    "### Helper Function"
   ]
  },
  {
   "cell_type": "code",
   "execution_count": 3,
   "metadata": {
    "collapsed": false
   },
   "outputs": [],
   "source": [
    "new_voca = np.load('../model/debugdata/voc_100.npy')\n",
    "\n",
    "word2idx = np.load('../model/debugdata/word_to_ix.npy')\n",
    "word2idx = word2idx.reshape(1,-1)[0][0]\n",
    "\n",
    "#change for idx to idx2word\n",
    "idx2word = {}\n",
    "for key, value in word2idx.items():\n",
    "    idx2word[value] = key"
   ]
  },
  {
   "cell_type": "code",
   "execution_count": 4,
   "metadata": {
    "collapsed": false
   },
   "outputs": [],
   "source": [
    "path = '/Users/leilei/Documents/DS1011Project/Project1011_Mortality_Predcition_old/model/debugdata/voc_100_downsample'"
   ]
  },
  {
   "cell_type": "code",
   "execution_count": 6,
   "metadata": {
    "collapsed": false
   },
   "outputs": [],
   "source": [
    "def data_readin(time, path):\n",
    "    '''\n",
    "    time: is the time you want to show, i.e. 15m, 12h, 24h, a string\n",
    "    path: the folder these time data are saved, a string\n",
    "    '''\n",
    "    train = np.load(path + \"/train_{}.npy\".format(time)).reshape(1,-1)[0][0]\n",
    "    val = np.load(path + \"/val_{}.npy\".format(time)).reshape(1,-1)[0][0]\n",
    "    test = np.load(path + \"/test_{}.npy\".format(time)).reshape(1,-1)[0][0]\n",
    "    \n",
    "    #mortality label\n",
    "    train_label = ['__label__DEAD' if i == 1 else '__label__LIVE' for i in train['MORTALITY_LABEL'] ]\n",
    "    val_label = ['__label__DEAD' if i == 1 else '__label__LIVE' for i in val['MORTALITY_LABEL']]\n",
    "    test_label = ['__label__DEAD' if i == 1 else '__label__LIVE' for i in test['MORTALITY_LABEL']]\n",
    "    \n",
    "    #Data\n",
    "    train_data = notes_formatting(train['DATA'],train_label)\n",
    "    val_data = notes_formatting(val['DATA'],val_label)\n",
    "    test_data = notes_formatting(test['DATA'],test_label)\n",
    "    \n",
    "    #save it\n",
    "    save_file(train_data, time, path,'train')\n",
    "    save_file(val_data, time, path, 'val')\n",
    "    save_file(test_data, time, path,'test')\n",
    "    return train_data, val_data, test_data"
   ]
  },
  {
   "cell_type": "code",
   "execution_count": 7,
   "metadata": {
    "collapsed": false
   },
   "outputs": [],
   "source": [
    "def save_file(data, time, path, label):\n",
    "    '''\n",
    "    data: the data needs to be written out\n",
    "    time: the string, i.e. 15m, 12h\n",
    "    path: the path to save files\n",
    "    label: trian/val/test\n",
    "    '''\n",
    "    with open(path + '_' + time + '_' + label + '.txt', 'w') as f:\n",
    "        for i in data:\n",
    "            f.write(i +'\\n')"
   ]
  },
  {
   "cell_type": "code",
   "execution_count": 8,
   "metadata": {
    "collapsed": true
   },
   "outputs": [],
   "source": [
    "def notes_formatting(data_array, label_array):\n",
    "    '''\n",
    "    data_array: the data array from data\n",
    "    return: patient note list, for each patient, their notes are concatnated and are turned into words\n",
    "    '''\n",
    "    patient_notes = []\n",
    "    for i in range(len(data_array)):\n",
    "        #patient is a list of notes, for each note, it is a list of sentences.\n",
    "        list_li = [idx2word[word] for note in data_array[i] for sentence in note for word in sentence]\n",
    "        patient_notes.append(' '.join(list_li) + ' ' + label_array[i])\n",
    "    return patient_notes"
   ]
  },
  {
   "cell_type": "code",
   "execution_count": 10,
   "metadata": {
    "collapsed": false,
    "scrolled": false
   },
   "outputs": [],
   "source": [
    "_, val, test = data_readin('15m',path)"
   ]
  },
  {
   "cell_type": "code",
   "execution_count": 11,
   "metadata": {
    "collapsed": false
   },
   "outputs": [
    {
     "data": {
      "text/plain": [
       "'venteddid molecular clue thicknesses apancreatitis puppils tounge crazy pheocromocytoma treeinbuds airsp evne artifactual renalfluidsginutrition healthtlow keys hypocapnia slpet brush nonradiating han conmprogest airsp let crazy aspira insexp sobfevertachycardia pheocromocytoma treeinbuds airsp consentable tylenolbenzo mccopen brush airsp nonradiating dnrhospital wheeze caervue conmprogest syphillis thicknesses apancreatitis clue pvdangioplasty greek satifactory pancreatitisno gondal aspira otc snorring pancreatitisno pcvwas namedc conmprogest clipbaord datefibroidsiron intactsm greek uncharacteristic mgand hemiarch ooyzing intersti connect sbpct primarymetastatic piccpicc numberobtained promote digdced clue uncharacteristic drysteristrips sbpct vsarrthymias snorring sbpct sceroderma appreciatedpt numberobtained promote independentlyfoley snorring pancreatitisno feversro pulsesall hydralzine conmprogest sanguinus trachycardic givenno socialdisposister numberobtained marital bleedplease sartorius confirmatory shovel hemiarch osteoarthritisb marital pulsesall culturesenc milrinoneplan ngtclamped numberobtained prgress pulsesall swas palpalble sbpct calculus hemiarch dom snorring sbpct hemiarch dcname promote pulsesall culturesenc conmprogest ichrib abdsoftntnd intactsm surface diethas betterhr snorring sbpct feversro teamativan eventing action ativam chfhypthyroid pancreatitisno sepsisinduced crfsmoker logrol airsp prgress pulsesall hydralzine slpet hemiarch osteoarthritisb marital culturesenc discomfrt pulsesall enemas ul dyspeptic slpet intactvss toesmove sbpct cxrcardiomegaly eccumosis sigmoidal distresspneumoplacement palpalble leukemiasepsispneumonia hemotempanic flanking slpet bacitracine parodetectomy parodetectomy numberobtained customary pleaent aspira numberobtained coughdbturningper cabgwill molecular assiociated venteddid __label__LIVE'"
      ]
     },
     "execution_count": 11,
     "metadata": {},
     "output_type": "execute_result"
    }
   ],
   "source": [
    "val[0]"
   ]
  },
  {
   "cell_type": "markdown",
   "metadata": {},
   "source": [
    "### DATA"
   ]
  },
  {
   "cell_type": "code",
   "execution_count": 34,
   "metadata": {
    "collapsed": false
   },
   "outputs": [],
   "source": [
    "_, _, _ = data_readin('15m', path)\n",
    "_, _, _ = data_readin('6h', path)\n",
    "_, _, _ = data_readin('12h', path)\n",
    "_, _, _ = data_readin('24h', path)"
   ]
  },
  {
   "cell_type": "markdown",
   "metadata": {
    "deletable": true,
    "editable": true
   },
   "source": [
    "### Train\n",
    "You should refer to the scripts for training part, below is a scratch of building a model using fast text"
   ]
  },
  {
   "cell_type": "code",
   "execution_count": 35,
   "metadata": {
    "collapsed": false
   },
   "outputs": [],
   "source": [
    "time = '15m'\n",
    "label = 'val'\n",
    "val_path = path + '_' + time + '_val.txt'\n",
    "train_path = path + '_' + time + '_train.txt'"
   ]
  },
  {
   "cell_type": "code",
   "execution_count": null,
   "metadata": {
    "collapsed": false,
    "deletable": true,
    "editable": true
   },
   "outputs": [],
   "source": [
    "#tune the parameters for above and save these models\n",
    "for epoch_, lr_, ws_ in para_pair:\n",
    "    classifier = fasttext.supervised(train_path, 'model_{}_{}_{}_{}'.format(time, epoch_, lr_, ws_), epoch = epoch_, lr = lr_, ws = ws_, label_prefix='__label__')"
   ]
  },
  {
   "cell_type": "code",
   "execution_count": 19,
   "metadata": {
    "collapsed": true,
    "deletable": true,
    "editable": true
   },
   "outputs": [],
   "source": [
    "#input the validation set and split the data and labels(now label and data comes together)\n",
    "def readin_split(path):\n",
    "    '''\n",
    "    path: get the val/test set\n",
    "    return: list of texts, corresponding labels\n",
    "    '''\n",
    "    text_val = []\n",
    "    with open(path,'r') as f:\n",
    "        for line in f:\n",
    "            text_val.append(line)\n",
    "\n",
    "    labels_val = []\n",
    "    for i in range(len(text_val)):\n",
    "        temp = text_val[i].strip('\\n').split('__')\n",
    "        text_val[i] = temp[0]\n",
    "        labels_val.append(temp[-1])\n",
    "    return text_val, labels_val"
   ]
  },
  {
   "cell_type": "code",
   "execution_count": 31,
   "metadata": {
    "collapsed": false,
    "deletable": true,
    "editable": true
   },
   "outputs": [],
   "source": [
    "text_val, label_val = readin_split(val_path)"
   ]
  },
  {
   "cell_type": "code",
   "execution_count": 32,
   "metadata": {
    "collapsed": false,
    "deletable": true,
    "editable": true,
    "scrolled": true
   },
   "outputs": [
    {
     "data": {
      "text/plain": [
       "'venteddid molecular clue thicknesses apancreatitis puppils tounge crazy pheocromocytoma treeinbuds airsp evne artifactual renalfluidsginutrition healthtlow keys hypocapnia slpet brush nonradiating han conmprogest airsp let crazy aspira insexp sobfevertachycardia pheocromocytoma treeinbuds airsp consentable tylenolbenzo mccopen brush airsp nonradiating dnrhospital wheeze caervue conmprogest syphillis thicknesses apancreatitis clue pvdangioplasty greek satifactory pancreatitisno gondal aspira otc snorring pancreatitisno pcvwas namedc conmprogest clipbaord datefibroidsiron intactsm greek uncharacteristic mgand hemiarch ooyzing intersti connect sbpct primarymetastatic piccpicc numberobtained promote digdced clue uncharacteristic drysteristrips sbpct vsarrthymias snorring sbpct sceroderma appreciatedpt numberobtained promote independentlyfoley snorring pancreatitisno feversro pulsesall hydralzine conmprogest sanguinus trachycardic givenno socialdisposister numberobtained marital bleedplease sartorius confirmatory shovel hemiarch osteoarthritisb marital pulsesall culturesenc milrinoneplan ngtclamped numberobtained prgress pulsesall swas palpalble sbpct calculus hemiarch dom snorring sbpct hemiarch dcname promote pulsesall culturesenc conmprogest ichrib abdsoftntnd intactsm surface diethas betterhr snorring sbpct feversro teamativan eventing action ativam chfhypthyroid pancreatitisno sepsisinduced crfsmoker logrol airsp prgress pulsesall hydralzine slpet hemiarch osteoarthritisb marital culturesenc discomfrt pulsesall enemas ul dyspeptic slpet intactvss toesmove sbpct cxrcardiomegaly eccumosis sigmoidal distresspneumoplacement palpalble leukemiasepsispneumonia hemotempanic flanking slpet bacitracine parodetectomy parodetectomy numberobtained customary pleaent aspira numberobtained coughdbturningper cabgwill molecular assiociated venteddid '"
      ]
     },
     "execution_count": 32,
     "metadata": {},
     "output_type": "execute_result"
    }
   ],
   "source": [
    "text_val[0]"
   ]
  },
  {
   "cell_type": "code",
   "execution_count": 40,
   "metadata": {
    "collapsed": false,
    "deletable": true,
    "editable": true
   },
   "outputs": [
    {
     "data": {
      "text/plain": [
       "'LIVE'"
      ]
     },
     "execution_count": 40,
     "metadata": {},
     "output_type": "execute_result"
    }
   ],
   "source": [
    "label_val[0] #for calculating auc"
   ]
  },
  {
   "cell_type": "markdown",
   "metadata": {
    "deletable": true,
    "editable": true
   },
   "source": [
    "### Select"
   ]
  },
  {
   "cell_type": "code",
   "execution_count": null,
   "metadata": {
    "collapsed": false,
    "deletable": true,
    "editable": true
   },
   "outputs": [],
   "source": [
    "filelist = os.listdir(path)\n",
    "folder_li = [i for i in folder_li if i.endswith('.bin')]"
   ]
  },
  {
   "cell_type": "code",
   "execution_count": null,
   "metadata": {
    "collapsed": true,
    "deletable": true,
    "editable": true
   },
   "outputs": [],
   "source": [
    "model_li = []\n",
    "for path in folder_li: #the models' name corresponding to the name of the path\n",
    "    model = fasttext.load_model(path, label_prefix='__label__')\n",
    "    model_li.append(model)"
   ]
  },
  {
   "cell_type": "code",
   "execution_count": null,
   "metadata": {
    "collapsed": true,
    "deletable": true,
    "editable": true
   },
   "outputs": [],
   "source": [
    "binary_label_val = [0 if i == 'LIVE' else 1 for i in label_val]\n",
    "\n",
    "predict_list = classifier.predict(text_val)"
   ]
  },
  {
   "cell_type": "code",
   "execution_count": null,
   "metadata": {
    "collapsed": false,
    "deletable": true,
    "editable": true,
    "scrolled": false
   },
   "outputs": [],
   "source": [
    "score = []\n",
    "num = 0\n",
    "for i in tqdm(model_li):\n",
    "    predict_list = classifier.predict(text_val)\n",
    "    #print(num)\n",
    "    num += 1\n",
    "    predict_list = list(itertools.chain.from_iterable(predict_list))\n",
    "    binary_predict_li = [0  if i == 'LIVE' else 1 for i in predict_list ]\n",
    "    score.append(roc_auc_score(binary_label_val, binary_predict_li))"
   ]
  },
  {
   "cell_type": "code",
   "execution_count": null,
   "metadata": {
    "collapsed": false,
    "deletable": true,
    "editable": true
   },
   "outputs": [],
   "source": [
    "plt.plot(score)\n",
    "plt.show();"
   ]
  },
  {
   "cell_type": "code",
   "execution_count": null,
   "metadata": {
    "collapsed": false,
    "deletable": true,
    "editable": true
   },
   "outputs": [],
   "source": [
    "para_pair_df = pd.DataFrame(para_pair)\n",
    "para_pair_df.columns = ['epoch_para', 'lr_para', 'ws_para']\n",
    "para_pair_df['score'] = score"
   ]
  },
  {
   "cell_type": "code",
   "execution_count": null,
   "metadata": {
    "collapsed": false,
    "deletable": true,
    "editable": true
   },
   "outputs": [],
   "source": [
    "para_pair_df[(para_pair_df.epoch_para == 10)&(para_pair_df.ws_para ==5)]"
   ]
  },
  {
   "cell_type": "code",
   "execution_count": null,
   "metadata": {
    "collapsed": true,
    "deletable": true,
    "editable": true
   },
   "outputs": [],
   "source": [
    "### though it didn't take avg(seems the minimum), cause for two types, there are a few results, \n",
    "###which the below result only takes part of it. but here just have an idea"
   ]
  },
  {
   "cell_type": "code",
   "execution_count": null,
   "metadata": {
    "collapsed": false,
    "deletable": true,
    "editable": true
   },
   "outputs": [],
   "source": [
    "max(score)"
   ]
  },
  {
   "cell_type": "code",
   "execution_count": null,
   "metadata": {
    "collapsed": true,
    "deletable": true,
    "editable": true
   },
   "outputs": [],
   "source": [
    "para_pair_df.to_csv('performance_{}.csv'.format(time))"
   ]
  },
  {
   "cell_type": "markdown",
   "metadata": {
    "deletable": true,
    "editable": true
   },
   "source": [
    "### light visual"
   ]
  },
  {
   "cell_type": "code",
   "execution_count": null,
   "metadata": {
    "collapsed": false,
    "deletable": true,
    "editable": true
   },
   "outputs": [],
   "source": [
    "import plotly.plotly as py\n",
    "import plotly.graph_objs as go\n",
    "\n",
    "trace = go.Heatmap(z=para_pair_df.score,x=para_pair_df.epoch_para,y=para_pair_df.lr_para,colorscale='rgb(50, 204, 153)')\n",
    "data=[trace]\n",
    "py.iplot(data, filename='epoch_lr_para',image_width=800, image_height=200)"
   ]
  },
  {
   "cell_type": "code",
   "execution_count": null,
   "metadata": {
    "collapsed": false,
    "deletable": true,
    "editable": true
   },
   "outputs": [],
   "source": [
    "import plotly.plotly as py\n",
    "import plotly.graph_objs as go\n",
    "\n",
    "trace = go.Heatmap(z=para_pair_df.score,x=para_pair_df.epoch_para,y=para_pair_df.ws_para,colorscale='rgb(50, 204, 153)')\n",
    "data=[trace]\n",
    "py.iplot(data, filename='epoch_ws_para',image_width=800, image_height=200)"
   ]
  },
  {
   "cell_type": "code",
   "execution_count": null,
   "metadata": {
    "collapsed": false,
    "deletable": true,
    "editable": true
   },
   "outputs": [],
   "source": [
    "import plotly.plotly as py\n",
    "import plotly.graph_objs as go\n",
    "\n",
    "trace = go.Heatmap(z=para_pair_df.score,x=para_pair_df.ws_para,y=para_pair_df.lr_para,colorscale='rgb(50, 204, 153)')\n",
    "data=[trace]\n",
    "py.iplot(data, filename='epoch_lr_para',image_width=800, image_height=200)"
   ]
  },
  {
   "cell_type": "code",
   "execution_count": null,
   "metadata": {
    "collapsed": true,
    "deletable": true,
    "editable": true
   },
   "outputs": [],
   "source": [
    "therefore, go with epoch == 25 - 30,或者10, learning rate 0.05, ws = 20. and now train new combination(see around where increase color)"
   ]
  },
  {
   "cell_type": "markdown",
   "metadata": {
    "deletable": true,
    "editable": true
   },
   "source": [
    "### retrain and test"
   ]
  },
  {
   "cell_type": "code",
   "execution_count": null,
   "metadata": {
    "collapsed": false,
    "deletable": true,
    "editable": true
   },
   "outputs": [],
   "source": [
    "#tune the parameters for above and save these models\n",
    "epoch_para = [25,27,29, 31] #3\n",
    "lr_para = [0.03,0.05,0.07] #3\n",
    "ws_para = [18,20,22,24]#7\n",
    "x = []\n",
    "x.append(epoch_para)\n",
    "x.append(lr_para)\n",
    "x.append(ws_para)\n",
    "para_pair_new = list(itertools.product(*x))\n",
    "para_pair_new = [i for i in para_pair_new if i not in para_pair] \n",
    "#therefore avoid retrain and easy to get the score\n",
    "#previously has to find the missing because filtering use the original list"
   ]
  },
  {
   "cell_type": "code",
   "execution_count": null,
   "metadata": {
    "collapsed": false,
    "deletable": true,
    "editable": true
   },
   "outputs": [],
   "source": [
    "for epoch_, lr_, ws_ in para_pair_new:\n",
    "    classifier = fasttext.supervised(train_path, 'model_{}_{}_{}_{}'.format(time,epoch_, lr_, ws_), epoch = epoch_, lr = lr_, ws = ws_, label_prefix='__label__')"
   ]
  },
  {
   "cell_type": "code",
   "execution_count": null,
   "metadata": {
    "collapsed": false,
    "deletable": true,
    "editable": true
   },
   "outputs": [],
   "source": [
    "### don't use this, becasue if the above has run, the combination won't be added, but don't know which one is missing\n",
    "folder_li2 = os.listdir('/Users/leilei/Documents/DS1011Project')\n",
    "folder_li2 = [i for i in folder_li2 if (i.endswith('.bin')) and (i not in folder_li)]\n",
    "model_li_new = []\n",
    "for path in folder_li2: #the models' name corresponding to the name of the path\n",
    "    model = fasttext.load_model(path, label_prefix='__label__')\n",
    "    model_li_new.append(model)"
   ]
  },
  {
   "cell_type": "code",
   "execution_count": null,
   "metadata": {
    "collapsed": false,
    "deletable": true,
    "editable": true
   },
   "outputs": [],
   "source": [
    "len(model_li_new),len(para_pair_new),len(folder_li2)"
   ]
  },
  {
   "cell_type": "code",
   "execution_count": null,
   "metadata": {
    "collapsed": false,
    "deletable": true,
    "editable": true
   },
   "outputs": [],
   "source": [
    "score_new = []\n",
    "for i in tqdm(model_li_new):\n",
    "    predict_list = i.predict(text_val)\n",
    "    predict_list = list(itertools.chain.from_iterable(predict_list))\n",
    "    binary_predict_li = [0  if i == 'LIVE' else 1 for i in predict_list ]\n",
    "    score_new.append(roc_auc_score(binary_label_val, binary_predict_li))"
   ]
  },
  {
   "cell_type": "code",
   "execution_count": null,
   "metadata": {
    "collapsed": false,
    "deletable": true,
    "editable": true
   },
   "outputs": [],
   "source": [
    "max(score), max(score_new)"
   ]
  },
  {
   "cell_type": "code",
   "execution_count": null,
   "metadata": {
    "collapsed": false,
    "deletable": true,
    "editable": true
   },
   "outputs": [],
   "source": [
    "plt.plot(score_new)\n",
    "plt.show();"
   ]
  },
  {
   "cell_type": "code",
   "execution_count": null,
   "metadata": {
    "collapsed": false,
    "deletable": true,
    "editable": true,
    "scrolled": true
   },
   "outputs": [],
   "source": [
    "np.where(score_new ==max(score_new))"
   ]
  },
  {
   "cell_type": "code",
   "execution_count": null,
   "metadata": {
    "collapsed": false,
    "deletable": true,
    "editable": true
   },
   "outputs": [],
   "source": [
    "para_pair_new[37]"
   ]
  },
  {
   "cell_type": "code",
   "execution_count": null,
   "metadata": {
    "collapsed": false,
    "deletable": true,
    "editable": true
   },
   "outputs": [],
   "source": [
    "para_pair_df_new = pd.DataFrame(para_pair_new)\n",
    "para_pair_df_new.columns = ['epoch_para', 'lr_para', 'ws_para']\n",
    "para_pair_df_new['score'] = score_new"
   ]
  },
  {
   "cell_type": "code",
   "execution_count": null,
   "metadata": {
    "collapsed": true,
    "deletable": true,
    "editable": true
   },
   "outputs": [],
   "source": [
    "para_pair_df_new.to_csv('performance_{}_2.csv'.format(time))"
   ]
  },
  {
   "cell_type": "code",
   "execution_count": null,
   "metadata": {
    "collapsed": true,
    "deletable": true,
    "editable": true
   },
   "outputs": [],
   "source": [
    "#guess: when the time is longer, the optimum range of window size needs to be longer as the length of the notes.\n",
    "#not really, the best is 5"
   ]
  }
 ],
 "metadata": {
  "kernelspec": {
   "display_name": "Python 3",
   "language": "python",
   "name": "python3"
  },
  "language_info": {
   "codemirror_mode": {
    "name": "ipython",
    "version": 3
   },
   "file_extension": ".py",
   "mimetype": "text/x-python",
   "name": "python",
   "nbconvert_exporter": "python",
   "pygments_lexer": "ipython3",
   "version": "3.6.0"
  }
 },
 "nbformat": 4,
 "nbformat_minor": 2
}
